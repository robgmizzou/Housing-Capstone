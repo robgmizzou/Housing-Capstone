{
 "cells": [
  {
   "cell_type": "code",
   "execution_count": null,
   "id": "9668e0be",
   "metadata": {},
   "outputs": [],
   "source": [
    "import pandas as pd\n",
    "import plotly.express as px\n",
    "import hvplot.pandas\n",
    "from sklearn.cluster import KMeans"
   ]
  },
  {
   "cell_type": "code",
   "execution_count": null,
   "id": "6cc73c31",
   "metadata": {},
   "outputs": [],
   "source": [
    "# Loading data\n",
    "file_path = \"/Users/ythun/OneDrive/Desktop/UNC-VIRT-DATA/Housing-Capstone/apiTest.csv\"\n",
    "df_housing = pd.read_csv(file_path)\n",
    "df_housing.head()"
   ]
  },
  {
   "cell_type": "code",
   "execution_count": null,
   "id": "40e2a148",
   "metadata": {},
   "outputs": [],
   "source": [
    "df_housing.dtypes"
   ]
  },
  {
   "cell_type": "code",
   "execution_count": null,
   "id": "9ef4fe9e",
   "metadata": {},
   "outputs": [],
   "source": [
    "# Initializing model with K = 3 \n",
    "\n",
    "model = KMeans(n_clusters=3, random_state=5)\n",
    "model"
   ]
  },
  {
   "cell_type": "code",
   "execution_count": null,
   "id": "e58d5823",
   "metadata": {},
   "outputs": [],
   "source": [
    "# Fitting model\n",
    "model.fit(df_housing)"
   ]
  },
  {
   "cell_type": "code",
   "execution_count": null,
   "id": "5f170cd6",
   "metadata": {},
   "outputs": [],
   "source": []
  }
 ],
 "metadata": {
  "kernelspec": {
   "display_name": "mlenv",
   "language": "python",
   "name": "mlenv"
  },
  "language_info": {
   "codemirror_mode": {
    "name": "ipython",
    "version": 3
   },
   "file_extension": ".py",
   "mimetype": "text/x-python",
   "name": "python",
   "nbconvert_exporter": "python",
   "pygments_lexer": "ipython3",
   "version": "3.7.13"
  }
 },
 "nbformat": 4,
 "nbformat_minor": 5
}
