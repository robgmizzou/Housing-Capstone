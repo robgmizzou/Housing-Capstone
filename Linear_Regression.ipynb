{
 "cells": [
  {
   "cell_type": "code",
   "execution_count": 47,
   "id": "8b13e174",
   "metadata": {},
   "outputs": [],
   "source": [
    "# Import Dependencies\n",
    "import pandas as pd\n",
    "import plotly.express as px\n",
    "import hvplot.pandas\n",
    "from sklearn.cluster import KMeans\n",
    "from pathlib import Path\n",
    "import matplotlib.pyplot as plt\n",
    "from sklearn.linear_model import LinearRegression\n",
    "from sklearn.datasets import make_blobs\n",
    "import plotly.express as px\n",
    "from sklearn.cluster import KMeans\n"
   ]
  },
  {
   "cell_type": "code",
   "execution_count": 48,
   "id": "867d2cf4",
   "metadata": {},
   "outputs": [
    {
     "data": {
      "text/html": [
       "<div>\n",
       "<style scoped>\n",
       "    .dataframe tbody tr th:only-of-type {\n",
       "        vertical-align: middle;\n",
       "    }\n",
       "\n",
       "    .dataframe tbody tr th {\n",
       "        vertical-align: top;\n",
       "    }\n",
       "\n",
       "    .dataframe thead th {\n",
       "        text-align: right;\n",
       "    }\n",
       "</style>\n",
       "<table border=\"1\" class=\"dataframe\">\n",
       "  <thead>\n",
       "    <tr style=\"text-align: right;\">\n",
       "      <th></th>\n",
       "      <th>zpid</th>\n",
       "      <th>propertyType</th>\n",
       "      <th>lotAreaValue</th>\n",
       "      <th>address</th>\n",
       "      <th>city</th>\n",
       "      <th>zip</th>\n",
       "      <th>price</th>\n",
       "      <th>bedrooms</th>\n",
       "      <th>bathrooms</th>\n",
       "      <th>livingArea</th>\n",
       "      <th>lotAreaUnit</th>\n",
       "      <th>latitude</th>\n",
       "      <th>longitude</th>\n",
       "    </tr>\n",
       "  </thead>\n",
       "  <tbody>\n",
       "    <tr>\n",
       "      <th>0</th>\n",
       "      <td>6424606</td>\n",
       "      <td>SINGLE_FAMILY</td>\n",
       "      <td>0.37</td>\n",
       "      <td>5209 Durham Rd</td>\n",
       "      <td>Raleigh</td>\n",
       "      <td>27613</td>\n",
       "      <td>169900</td>\n",
       "      <td>3</td>\n",
       "      <td>2</td>\n",
       "      <td>1582</td>\n",
       "      <td>acres</td>\n",
       "      <td>35.985752</td>\n",
       "      <td>-78.704260</td>\n",
       "    </tr>\n",
       "    <tr>\n",
       "      <th>1</th>\n",
       "      <td>6465323</td>\n",
       "      <td>SINGLE_FAMILY</td>\n",
       "      <td>0.32</td>\n",
       "      <td>3500 Rigel Ct</td>\n",
       "      <td>Raleigh</td>\n",
       "      <td>27604</td>\n",
       "      <td>199900</td>\n",
       "      <td>3</td>\n",
       "      <td>3</td>\n",
       "      <td>2477</td>\n",
       "      <td>sqft</td>\n",
       "      <td>35.827152</td>\n",
       "      <td>-78.577710</td>\n",
       "    </tr>\n",
       "    <tr>\n",
       "      <th>2</th>\n",
       "      <td>65332844</td>\n",
       "      <td>SINGLE_FAMILY</td>\n",
       "      <td>10018.80</td>\n",
       "      <td>3305 Perkins Ridge Rd,</td>\n",
       "      <td>Raleigh</td>\n",
       "      <td>27610</td>\n",
       "      <td>386900</td>\n",
       "      <td>4</td>\n",
       "      <td>2</td>\n",
       "      <td>1352</td>\n",
       "      <td>acres</td>\n",
       "      <td>35.736557</td>\n",
       "      <td>-78.542946</td>\n",
       "    </tr>\n",
       "    <tr>\n",
       "      <th>3</th>\n",
       "      <td>79886148</td>\n",
       "      <td>SINGLE_FAMILY</td>\n",
       "      <td>0.57</td>\n",
       "      <td>2204 Center Spring Ct</td>\n",
       "      <td>Raleigh</td>\n",
       "      <td>27603</td>\n",
       "      <td>1000000</td>\n",
       "      <td>4</td>\n",
       "      <td>4</td>\n",
       "      <td>4602</td>\n",
       "      <td>acres</td>\n",
       "      <td>35.666355</td>\n",
       "      <td>-78.711920</td>\n",
       "    </tr>\n",
       "    <tr>\n",
       "      <th>4</th>\n",
       "      <td>133219036</td>\n",
       "      <td>SINGLE_FAMILY</td>\n",
       "      <td>0.53</td>\n",
       "      <td>7005 San Juan Hill Ct</td>\n",
       "      <td>Raleigh</td>\n",
       "      <td>27610</td>\n",
       "      <td>279900</td>\n",
       "      <td>3</td>\n",
       "      <td>3</td>\n",
       "      <td>1161</td>\n",
       "      <td>acres</td>\n",
       "      <td>35.729530</td>\n",
       "      <td>-78.533905</td>\n",
       "    </tr>\n",
       "  </tbody>\n",
       "</table>\n",
       "</div>"
      ],
      "text/plain": [
       "        zpid   propertyType  lotAreaValue                 address     city  \\\n",
       "0    6424606  SINGLE_FAMILY          0.37          5209 Durham Rd  Raleigh   \n",
       "1    6465323  SINGLE_FAMILY          0.32           3500 Rigel Ct  Raleigh   \n",
       "2   65332844  SINGLE_FAMILY      10018.80  3305 Perkins Ridge Rd,  Raleigh   \n",
       "3   79886148  SINGLE_FAMILY          0.57   2204 Center Spring Ct  Raleigh   \n",
       "4  133219036  SINGLE_FAMILY          0.53   7005 San Juan Hill Ct  Raleigh   \n",
       "\n",
       "     zip    price  bedrooms  bathrooms  livingArea lotAreaUnit   latitude  \\\n",
       "0  27613   169900         3          2        1582       acres  35.985752   \n",
       "1  27604   199900         3          3        2477        sqft  35.827152   \n",
       "2  27610   386900         4          2        1352       acres  35.736557   \n",
       "3  27603  1000000         4          4        4602       acres  35.666355   \n",
       "4  27610   279900         3          3        1161       acres  35.729530   \n",
       "\n",
       "   longitude  \n",
       "0 -78.704260  \n",
       "1 -78.577710  \n",
       "2 -78.542946  \n",
       "3 -78.711920  \n",
       "4 -78.533905  "
      ]
     },
     "execution_count": 48,
     "metadata": {},
     "output_type": "execute_result"
    }
   ],
   "source": [
    "# Loading data\n",
    "file_path = \"/Users/ythun/OneDrive/Desktop/UNC-VIRT-DATA/Housing-Capstone/sample_data.csv\"\n",
    "df_housing = pd.read_csv(file_path)\n",
    "df_housing.head()"
   ]
  },
  {
   "cell_type": "markdown",
   "id": "d54ef0aa",
   "metadata": {},
   "source": [
    "# Linear Regression"
   ]
  },
  {
   "cell_type": "code",
   "execution_count": 50,
   "id": "2094e0c2",
   "metadata": {},
   "outputs": [
    {
     "data": {
      "image/png": "[encoded data removed]",
      "text/plain": [
       "<Figure size 432x288 with 1 Axes>"
      ]
     },
     "metadata": {
      "needs_background": "light"
     },
     "output_type": "display_data"
    }
   ],
   "source": [
    "# Visually inspect relationship between zip and price\n",
    "plt.scatter(df_housing.zip, df_housing.price)\n",
    "plt.xlabel('Zip Code')\n",
    "plt.ylabel('Price in USD')\n",
    "plt.show()"
   ]
  },
  {
   "cell_type": "code",
   "execution_count": 51,
   "id": "1a6b3d7b",
   "metadata": {},
   "outputs": [],
   "source": [
    "# Formate data for Scikit-learn library\n",
    "X = df_housing.zip.values.reshape(-1,1)"
   ]
  },
  {
   "cell_type": "code",
   "execution_count": 52,
   "id": "a8b59b00",
   "metadata": {},
   "outputs": [],
   "source": [
    "# Assign target variable\n",
    "y = df_housing.price"
   ]
  },
  {
   "cell_type": "code",
   "execution_count": 53,
   "id": "fb3ed308",
   "metadata": {},
   "outputs": [],
   "source": [
    "# Create linear regression model\n",
    "model = LinearRegression()"
   ]
  },
  {
   "cell_type": "code",
   "execution_count": 54,
   "id": "b806a3be",
   "metadata": {},
   "outputs": [
    {
     "data": {
      "text/plain": [
       "LinearRegression()"
      ]
     },
     "execution_count": 54,
     "metadata": {},
     "output_type": "execute_result"
    }
   ],
   "source": [
    "# Fitting the model\n",
    "model.fit(X, y)"
   ]
  },
  {
   "cell_type": "code",
   "execution_count": 55,
   "id": "1c815fa1",
   "metadata": {},
   "outputs": [
    {
     "name": "stdout",
     "output_type": "stream",
     "text": [
      "(7,)\n"
     ]
    }
   ],
   "source": [
    "# Predict the model\n",
    "y_pred = model.predict(X)\n",
    "print(y_pred.shape)"
   ]
  },
  {
   "cell_type": "code",
   "execution_count": 56,
   "id": "6de6060f",
   "metadata": {},
   "outputs": [
    {
     "data": {
      "image/png": "[encoded data removed]",
      "text/plain": [
       "<Figure size 432x288 with 1 Axes>"
      ]
     },
     "metadata": {
      "needs_background": "light"
     },
     "output_type": "display_data"
    }
   ],
   "source": [
    "# Plot the model\n",
    "plt.scatter(X, y)\n",
    "plt.plot(X, y_pred, color='red')\n",
    "plt.show()"
   ]
  },
  {
   "cell_type": "code",
   "execution_count": 57,
   "id": "a420c85b",
   "metadata": {},
   "outputs": [
    {
     "name": "stdout",
     "output_type": "stream",
     "text": [
      "[-40532.05445545]\n",
      "1119428400.6188123\n"
     ]
    }
   ],
   "source": [
    "print(model.coef_)\n",
    "print(model.intercept_)"
   ]
  },
  {
   "cell_type": "code",
   "execution_count": null,
   "id": "2ed54e8b",
   "metadata": {},
   "outputs": [],
   "source": []
  }
 ],
 "metadata": {
  "kernelspec": {
   "display_name": "mlenv",
   "language": "python",
   "name": "mlenv"
  },
  "language_info": {
   "codemirror_mode": {
    "name": "ipython",
    "version": 3
   },
   "file_extension": ".py",
   "mimetype": "text/x-python",
   "name": "python",
   "nbconvert_exporter": "python",
   "pygments_lexer": "ipython3",
   "version": "3.7.13"
  }
 },
 "nbformat": 4,
 "nbformat_minor": 5
}
