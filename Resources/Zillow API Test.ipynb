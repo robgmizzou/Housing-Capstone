{
 "cells": [
  {
   "cell_type": "code",
   "execution_count": 5,
   "id": "5dc5e747",
   "metadata": {},
   "outputs": [],
   "source": [
    "import pyzillow"
   ]
  },
  {
   "cell_type": "code",
   "execution_count": 7,
   "id": "28107586",
   "metadata": {},
   "outputs": [],
   "source": [
    "pyzillow?"
   ]
  },
  {
   "cell_type": "code",
   "execution_count": 1,
   "id": "bd9951fa",
   "metadata": {},
   "outputs": [],
   "source": [
    "#Dependencies\n",
    "import json\n",
    "import requests\n",
    "import pyzillow\n",
    "import pandas as pd\n",
    "\n",
    "from pyzillow.pyzillow import ZillowWrapper, GetDeepSearchResults"
   ]
  },
  {
   "cell_type": "code",
   "execution_count": null,
   "id": "98b6bd26",
   "metadata": {},
   "outputs": [],
   "source": [
    "# #parameters\n",
    "# url = https://www.zillow.com/webservice/GetSearchResults.htm?zws-id=X1-ZWz16701qa71fv_1wtus&address=2114+Bigelow+Ave&citystatezip=Seattle%2C+WA\n",
    "\n",
    "# query_url = "
   ]
  },
  {
   "cell_type": "code",
   "execution_count": null,
   "id": "4617d353",
   "metadata": {},
   "outputs": [],
   "source": [
    "# #Retreive the Zillow Data\n",
    "# zillow_resonse = requests.get(query_url)"
   ]
  },
  {
   "cell_type": "code",
   "execution_count": null,
   "id": "2b05fed3",
   "metadata": {},
   "outputs": [],
   "source": [
    "# url = \"https://zillow-com1.p.rapidapi.com/propertyExtendedSearch\"\n",
    "\n",
    "# querystring = {\"location\":\"santa monica, ca\",\"home_type\":\"Houses\"}\n",
    "\n",
    "# headers = {\n",
    "# \t\"X-RapidAPI-Key\": \"c908b31ea5mshb018fc83e5ca6bcp1fbe04jsn61a6592fc146\",\n",
    "# \t\"X-RapidAPI-Host\": \"zillow-com1.p.rapidapi.com\"\n",
    "# }\n",
    "\n",
    "# response = requests.request(\"GET\", url, headers=headers, params=querystring)\n",
    "\n",
    "# print(response.text)"
   ]
  },
  {
   "cell_type": "code",
   "execution_count": 3,
   "id": "9aa46ddb",
   "metadata": {},
   "outputs": [],
   "source": [
    "def get_deep_search_results(self, address, zipcode):\n",
    "    \"\"\"\n",
    "    GetDeepSearchResults API\n",
    "    \"\"\"\n",
    "\n",
    "    url = 'http://www.zillow.com/webservice/GetDeepSearchResults.htm'\n",
    "    params = {\n",
    "        'address': address,\n",
    "        'citystatezip': zipcode,\n",
    "        'zws-id': self.api_key,\n",
    "        'rentzestimate': True # This is the only line we add\n",
    "    }\n",
    "    return self.get_data(url, params)"
   ]
  },
  {
   "cell_type": "code",
   "execution_count": 4,
   "id": "80731c39",
   "metadata": {},
   "outputs": [
    {
     "ename": "AttributeError",
     "evalue": "'ZillowWrapper' object has no attribute 'get_deep_search_resuts'",
     "output_type": "error",
     "traceback": [
      "\u001b[1;31m---------------------------------------------------------------------------\u001b[0m",
      "\u001b[1;31mAttributeError\u001b[0m                            Traceback (most recent call last)",
      "Input \u001b[1;32mIn [4]\u001b[0m, in \u001b[0;36m<cell line: 7>\u001b[1;34m()\u001b[0m\n\u001b[0;32m      2\u001b[0m zip_code \u001b[38;5;241m=\u001b[39m [\u001b[38;5;124m'\u001b[39m\u001b[38;5;124m13790\u001b[39m\u001b[38;5;124m'\u001b[39m]\n\u001b[0;32m      6\u001b[0m zillow_data \u001b[38;5;241m=\u001b[39m ZillowWrapper(\u001b[38;5;124m'\u001b[39m\u001b[38;5;124mX1-ZWz16701qa71fv_1wtus\u001b[39m\u001b[38;5;124m'\u001b[39m)\n\u001b[1;32m----> 7\u001b[0m deep_search_response \u001b[38;5;241m=\u001b[39m \u001b[43mzillow_data\u001b[49m\u001b[38;5;241;43m.\u001b[39;49m\u001b[43mget_deep_search_resuts\u001b[49m(address, zip_code)\n\u001b[0;32m      8\u001b[0m result \u001b[38;5;241m=\u001b[39m GetDeepSearchResuts(deep_search_response)\n\u001b[0;32m     10\u001b[0m \u001b[38;5;28mprint\u001b[39m(result\u001b[38;5;241m.\u001b[39mrentzentimate_amount)\n",
      "\u001b[1;31mAttributeError\u001b[0m: 'ZillowWrapper' object has no attribute 'get_deep_search_resuts'"
     ]
    }
   ],
   "source": [
    "address = ['11 Avenue B, Johnson City, NY']\n",
    "zip_code = ['13790']\n",
    "\n",
    "\n",
    "\n",
    "zillow_data = ZillowWrapper('X1-ZWz16701qa71fv_1wtus')\n",
    "deep_search_response = zillow_data.get_deep_search_resuts(address, zip_code)\n",
    "result = GetDeepSearchResuts(deep_search_response)\n",
    "\n",
    "print(result.rentzentimate_amount)"
   ]
  },
  {
   "cell_type": "code",
   "execution_count": null,
   "id": "0e96173d",
   "metadata": {},
   "outputs": [],
   "source": []
  }
 ],
 "metadata": {
  "kernelspec": {
   "display_name": "PythonData",
   "language": "python",
   "name": "pythondata"
  },
  "language_info": {
   "codemirror_mode": {
    "name": "ipython",
    "version": 3
   },
   "file_extension": ".py",
   "mimetype": "text/x-python",
   "name": "python",
   "nbconvert_exporter": "python",
   "pygments_lexer": "ipython3",
   "version": "3.10.2"
  }
 },
 "nbformat": 4,
 "nbformat_minor": 5
}
